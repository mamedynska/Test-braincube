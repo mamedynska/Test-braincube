{
 "cells": [
  {
   "cell_type": "code",
   "execution_count": 3,
   "metadata": {},
   "outputs": [
    {
     "output_type": "stream",
     "name": "stdout",
     "text": [
      "Setup Complete\n"
     ]
    }
   ],
   "source": [
    "import numpy as np\n",
    "import pandas as pd\n",
    "from sklearn.linear_model import LinearRegression\n",
    "\n",
    "# Charger le .csv\n",
    "filepath = \"data/depensesNormalized.csv\"\n",
    "df = pd.read_csv(filepath)\n",
    "\n",
    "print(\"Setup Complete\")"
   ]
  },
  {
   "cell_type": "code",
   "execution_count": 15,
   "metadata": {},
   "outputs": [
    {
     "output_type": "display_data",
     "data": {
      "text/plain": "                     nom                ville       age   salaire  depenses\n0   -8466861322638831409 -6618866510704355885 -1.274674 -1.524022 -1.032686\n1   -1163022145265516038 -3127560310505538679  1.034239  0.014101 -1.790140\n2   -8432546198976370195 -3127560310505538679 -0.864200 -0.176980 -0.619529\n3     813814287408021138  2237729816932561715  1.136857 -1.506384 -1.652421\n4   -6539356840948419747 -3127560310505538679  0.880311  1.802100  0.413364\n..                   ...                  ...       ...       ...       ...\n995 -3672457340965080231  8071006090454726235 -1.531219  0.265937 -0.137512\n996 -8313621897288809557 -3127560310505538679  1.290785  0.744457  0.757661\n997 -4120859682247526699 -3127560310505538679 -1.479910 -0.184166 -0.894967\n998 -6947050939883203105 -3127560310505538679  0.315911 -0.408891  0.413364\n999 -8301818406307654991  8071006090454726235  0.418529  1.293856  0.482223\n\n[1000 rows x 5 columns]",
      "text/html": "<div>\n<style scoped>\n    .dataframe tbody tr th:only-of-type {\n        vertical-align: middle;\n    }\n\n    .dataframe tbody tr th {\n        vertical-align: top;\n    }\n\n    .dataframe thead th {\n        text-align: right;\n    }\n</style>\n<table border=\"1\" class=\"dataframe\">\n  <thead>\n    <tr style=\"text-align: right;\">\n      <th></th>\n      <th>nom</th>\n      <th>ville</th>\n      <th>age</th>\n      <th>salaire</th>\n      <th>depenses</th>\n    </tr>\n  </thead>\n  <tbody>\n    <tr>\n      <th>0</th>\n      <td>-8466861322638831409</td>\n      <td>-6618866510704355885</td>\n      <td>-1.274674</td>\n      <td>-1.524022</td>\n      <td>-1.032686</td>\n    </tr>\n    <tr>\n      <th>1</th>\n      <td>-1163022145265516038</td>\n      <td>-3127560310505538679</td>\n      <td>1.034239</td>\n      <td>0.014101</td>\n      <td>-1.790140</td>\n    </tr>\n    <tr>\n      <th>2</th>\n      <td>-8432546198976370195</td>\n      <td>-3127560310505538679</td>\n      <td>-0.864200</td>\n      <td>-0.176980</td>\n      <td>-0.619529</td>\n    </tr>\n    <tr>\n      <th>3</th>\n      <td>813814287408021138</td>\n      <td>2237729816932561715</td>\n      <td>1.136857</td>\n      <td>-1.506384</td>\n      <td>-1.652421</td>\n    </tr>\n    <tr>\n      <th>4</th>\n      <td>-6539356840948419747</td>\n      <td>-3127560310505538679</td>\n      <td>0.880311</td>\n      <td>1.802100</td>\n      <td>0.413364</td>\n    </tr>\n    <tr>\n      <th>...</th>\n      <td>...</td>\n      <td>...</td>\n      <td>...</td>\n      <td>...</td>\n      <td>...</td>\n    </tr>\n    <tr>\n      <th>995</th>\n      <td>-3672457340965080231</td>\n      <td>8071006090454726235</td>\n      <td>-1.531219</td>\n      <td>0.265937</td>\n      <td>-0.137512</td>\n    </tr>\n    <tr>\n      <th>996</th>\n      <td>-8313621897288809557</td>\n      <td>-3127560310505538679</td>\n      <td>1.290785</td>\n      <td>0.744457</td>\n      <td>0.757661</td>\n    </tr>\n    <tr>\n      <th>997</th>\n      <td>-4120859682247526699</td>\n      <td>-3127560310505538679</td>\n      <td>-1.479910</td>\n      <td>-0.184166</td>\n      <td>-0.894967</td>\n    </tr>\n    <tr>\n      <th>998</th>\n      <td>-6947050939883203105</td>\n      <td>-3127560310505538679</td>\n      <td>0.315911</td>\n      <td>-0.408891</td>\n      <td>0.413364</td>\n    </tr>\n    <tr>\n      <th>999</th>\n      <td>-8301818406307654991</td>\n      <td>8071006090454726235</td>\n      <td>0.418529</td>\n      <td>1.293856</td>\n      <td>0.482223</td>\n    </tr>\n  </tbody>\n</table>\n<p>1000 rows × 5 columns</p>\n</div>"
     },
     "metadata": {}
    }
   ],
   "source": [
    "display(df)"
   ]
  },
  {
   "cell_type": "code",
   "execution_count": 8,
   "metadata": {},
   "outputs": [
    {
     "output_type": "display_data",
     "data": {
      "text/plain": "      salaire  depenses  Depenses Preditent\n0   -1.524022 -1.032686           -1.033976\n1    0.014101 -1.790140            0.009567\n2   -0.176980 -0.619529           -0.120073\n3   -1.506384 -1.652421           -1.022009\n4    1.802100  0.413364            1.222638\n..        ...       ...                 ...\n995  0.265937 -0.137512            0.180425\n996  0.744457  0.757661            0.505078\n997 -0.184166 -0.894967           -0.124948\n998 -0.408891  0.413364           -0.277413\n999  1.293856  0.482223            0.877819\n\n[1000 rows x 3 columns]",
      "text/html": "<div>\n<style scoped>\n    .dataframe tbody tr th:only-of-type {\n        vertical-align: middle;\n    }\n\n    .dataframe tbody tr th {\n        vertical-align: top;\n    }\n\n    .dataframe thead th {\n        text-align: right;\n    }\n</style>\n<table border=\"1\" class=\"dataframe\">\n  <thead>\n    <tr style=\"text-align: right;\">\n      <th></th>\n      <th>salaire</th>\n      <th>depenses</th>\n      <th>Depenses Preditent</th>\n    </tr>\n  </thead>\n  <tbody>\n    <tr>\n      <th>0</th>\n      <td>-1.524022</td>\n      <td>-1.032686</td>\n      <td>-1.033976</td>\n    </tr>\n    <tr>\n      <th>1</th>\n      <td>0.014101</td>\n      <td>-1.790140</td>\n      <td>0.009567</td>\n    </tr>\n    <tr>\n      <th>2</th>\n      <td>-0.176980</td>\n      <td>-0.619529</td>\n      <td>-0.120073</td>\n    </tr>\n    <tr>\n      <th>3</th>\n      <td>-1.506384</td>\n      <td>-1.652421</td>\n      <td>-1.022009</td>\n    </tr>\n    <tr>\n      <th>4</th>\n      <td>1.802100</td>\n      <td>0.413364</td>\n      <td>1.222638</td>\n    </tr>\n    <tr>\n      <th>...</th>\n      <td>...</td>\n      <td>...</td>\n      <td>...</td>\n    </tr>\n    <tr>\n      <th>995</th>\n      <td>0.265937</td>\n      <td>-0.137512</td>\n      <td>0.180425</td>\n    </tr>\n    <tr>\n      <th>996</th>\n      <td>0.744457</td>\n      <td>0.757661</td>\n      <td>0.505078</td>\n    </tr>\n    <tr>\n      <th>997</th>\n      <td>-0.184166</td>\n      <td>-0.894967</td>\n      <td>-0.124948</td>\n    </tr>\n    <tr>\n      <th>998</th>\n      <td>-0.408891</td>\n      <td>0.413364</td>\n      <td>-0.277413</td>\n    </tr>\n    <tr>\n      <th>999</th>\n      <td>1.293856</td>\n      <td>0.482223</td>\n      <td>0.877819</td>\n    </tr>\n  </tbody>\n</table>\n<p>1000 rows × 3 columns</p>\n</div>"
     },
     "metadata": {}
    },
    {
     "output_type": "stream",
     "name": "stdout",
     "text": [
      "Coef :  [0.67845169]\nIntercept :  3.487717762891342e-16\nScore :  0.46029670093656905\n"
     ]
    }
   ],
   "source": [
    "X = df[[\"salaire\"]]\n",
    "y =  df[\"depenses\"]\n",
    "regSal = LinearRegression().fit(X,y)\n",
    "\n",
    "# Prédiction juste avec le salaire :\n",
    "regSal.score(X, y)\n",
    "pred=regSal.predict(X)\n",
    "dfResultat = pd.DataFrame({\"salaire\":X[\"salaire\"],\"depenses\":y, \"Depenses Preditent\":pred})\n",
    "display(dfResultat)\n",
    "print(\"Coef : \", regSal.coef_)\n",
    "print(\"Intercept : \", regSal.intercept_)\n",
    "print(\"Score : \",regSal.score(X, y))\n",
    "\n"
   ]
  },
  {
   "cell_type": "code",
   "execution_count": 10,
   "metadata": {},
   "outputs": [],
   "source": [
    "# Ecriture dans prediction1.csv\n",
    "dfResultat.to_csv(\"data/prediction_1.csv\",index=False)"
   ]
  },
  {
   "cell_type": "code",
   "execution_count": 25,
   "metadata": {},
   "outputs": [
    {
     "output_type": "stream",
     "name": "stdout",
     "text": [
      "Coef :  [0.67519274 0.1395618 ]\nIntercept :  3.724175540664552e-16\nScore :  0.4797635759377238\n"
     ]
    },
    {
     "output_type": "display_data",
     "data": {
      "text/plain": "      salaire       age  depenses  Depenses Preditent\n0   -1.524022 -1.274674 -1.032686           -1.206905\n1    0.014101  1.034239 -1.790140            0.153861\n2   -0.176980 -0.864200 -0.619529           -0.240105\n3   -1.506384  1.136857 -1.652421           -0.858438\n4    1.802100  0.880311  0.413364            1.339623\n..        ...       ...       ...                 ...\n995  0.265937 -1.531219 -0.137512           -0.034141\n996  0.744457  1.290785  0.757661            0.682796\n997 -0.184166 -1.479910 -0.894967           -0.330887\n998 -0.408891  0.315911  0.413364           -0.231991\n999  1.293856  0.418529  0.482223            0.932013\n\n[1000 rows x 4 columns]",
      "text/html": "<div>\n<style scoped>\n    .dataframe tbody tr th:only-of-type {\n        vertical-align: middle;\n    }\n\n    .dataframe tbody tr th {\n        vertical-align: top;\n    }\n\n    .dataframe thead th {\n        text-align: right;\n    }\n</style>\n<table border=\"1\" class=\"dataframe\">\n  <thead>\n    <tr style=\"text-align: right;\">\n      <th></th>\n      <th>salaire</th>\n      <th>age</th>\n      <th>depenses</th>\n      <th>Depenses Preditent</th>\n    </tr>\n  </thead>\n  <tbody>\n    <tr>\n      <th>0</th>\n      <td>-1.524022</td>\n      <td>-1.274674</td>\n      <td>-1.032686</td>\n      <td>-1.206905</td>\n    </tr>\n    <tr>\n      <th>1</th>\n      <td>0.014101</td>\n      <td>1.034239</td>\n      <td>-1.790140</td>\n      <td>0.153861</td>\n    </tr>\n    <tr>\n      <th>2</th>\n      <td>-0.176980</td>\n      <td>-0.864200</td>\n      <td>-0.619529</td>\n      <td>-0.240105</td>\n    </tr>\n    <tr>\n      <th>3</th>\n      <td>-1.506384</td>\n      <td>1.136857</td>\n      <td>-1.652421</td>\n      <td>-0.858438</td>\n    </tr>\n    <tr>\n      <th>4</th>\n      <td>1.802100</td>\n      <td>0.880311</td>\n      <td>0.413364</td>\n      <td>1.339623</td>\n    </tr>\n    <tr>\n      <th>...</th>\n      <td>...</td>\n      <td>...</td>\n      <td>...</td>\n      <td>...</td>\n    </tr>\n    <tr>\n      <th>995</th>\n      <td>0.265937</td>\n      <td>-1.531219</td>\n      <td>-0.137512</td>\n      <td>-0.034141</td>\n    </tr>\n    <tr>\n      <th>996</th>\n      <td>0.744457</td>\n      <td>1.290785</td>\n      <td>0.757661</td>\n      <td>0.682796</td>\n    </tr>\n    <tr>\n      <th>997</th>\n      <td>-0.184166</td>\n      <td>-1.479910</td>\n      <td>-0.894967</td>\n      <td>-0.330887</td>\n    </tr>\n    <tr>\n      <th>998</th>\n      <td>-0.408891</td>\n      <td>0.315911</td>\n      <td>0.413364</td>\n      <td>-0.231991</td>\n    </tr>\n    <tr>\n      <th>999</th>\n      <td>1.293856</td>\n      <td>0.418529</td>\n      <td>0.482223</td>\n      <td>0.932013</td>\n    </tr>\n  </tbody>\n</table>\n<p>1000 rows × 4 columns</p>\n</div>"
     },
     "metadata": {}
    }
   ],
   "source": [
    "# Prédiction juste avec le salaire et l'age\n",
    "\n",
    "X2 = df[[\"salaire\",\"age\"]]\n",
    "y2 =  df[\"depenses\"]\n",
    "regSalAge = LinearRegression().fit(X2,y2)\n",
    "print(\"Coef : \", regSalAge.coef_)\n",
    "print(\"Intercept : \", regSalAge.intercept_)\n",
    "print(\"Score : \",regSalAge.score(X2, y2))\n",
    "pred2=regSalAge.predict(X2)\n",
    "dfResultat2 = pd.DataFrame({\"salaire\":X2[\"salaire\"], \"age\":X2[\"age\"],\"depenses\":y2, \"Depenses Preditent\":pred2})\n",
    "display(dfResultat2)"
   ]
  },
  {
   "cell_type": "code",
   "execution_count": 26,
   "metadata": {},
   "outputs": [],
   "source": [
    "# Ecriture dans prediction1.csv\n",
    "dfResultat2.to_csv(\"data/prediction2_depense.csv\",index=False)"
   ]
  }
 ],
 "metadata": {
  "kernelspec": {
   "display_name": "Python 3",
   "language": "python",
   "name": "python3"
  },
  "language_info": {
   "codemirror_mode": {
    "name": "ipython",
    "version": 3
   },
   "file_extension": ".py",
   "mimetype": "text/x-python",
   "name": "python",
   "nbconvert_exporter": "python",
   "pygments_lexer": "ipython3",
   "version": "3.8.1-final"
  }
 },
 "nbformat": 4,
 "nbformat_minor": 4
}