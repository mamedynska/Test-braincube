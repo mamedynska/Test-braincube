{
 "cells": [
  {
   "cell_type": "code",
   "execution_count": 12,
   "metadata": {},
   "outputs": [
    {
     "output_type": "stream",
     "name": "stdout",
     "text": [
      "Setup Complete\n"
     ]
    }
   ],
   "source": [
    "import numpy as np\n",
    "import pandas as pd\n",
    "\n",
    "\n",
    "# Charger le .csv\n",
    "filepath = \"data/depenses.csv\"\n",
    "df = pd.read_csv(filepath)\n",
    "\n",
    "print(\"Setup Complete\")"
   ]
  },
  {
   "cell_type": "code",
   "execution_count": 13,
   "metadata": {},
   "outputs": [
    {
     "output_type": "display_data",
     "data": {
      "text/plain": "                      nom             ville  age  salaire  depenses\n0             Vail Bérubé           Cébazat   26    17190      55.0\n1          Comforte Sorel  Clermont-Ferrand   71    21899      44.0\n2            Émile Allain  Clermont-Ferrand   34    21314      61.0\n3      Christiane Lagueux           Lempdes   73    17244      46.0\n4          Delmare Duclos  Clermont-Ferrand   68    27373      76.0\n..                    ...               ...  ...      ...       ...\n995      Chapin Paimboeuf          Beaumont   21    22670      68.0\n996        Michèle Quessy  Clermont-Ferrand   76    24135      81.0\n997          Lundy Bérubé  Clermont-Ferrand   22    21292      57.0\n998      Prunella Fecteau  Clermont-Ferrand   57    20604      76.0\n999  Arianne Croquetaigne          Beaumont   59    25817      77.0\n\n[1000 rows x 5 columns]",
      "text/html": "<div>\n<style scoped>\n    .dataframe tbody tr th:only-of-type {\n        vertical-align: middle;\n    }\n\n    .dataframe tbody tr th {\n        vertical-align: top;\n    }\n\n    .dataframe thead th {\n        text-align: right;\n    }\n</style>\n<table border=\"1\" class=\"dataframe\">\n  <thead>\n    <tr style=\"text-align: right;\">\n      <th></th>\n      <th>nom</th>\n      <th>ville</th>\n      <th>age</th>\n      <th>salaire</th>\n      <th>depenses</th>\n    </tr>\n  </thead>\n  <tbody>\n    <tr>\n      <th>0</th>\n      <td>Vail Bérubé</td>\n      <td>Cébazat</td>\n      <td>26</td>\n      <td>17190</td>\n      <td>55.0</td>\n    </tr>\n    <tr>\n      <th>1</th>\n      <td>Comforte Sorel</td>\n      <td>Clermont-Ferrand</td>\n      <td>71</td>\n      <td>21899</td>\n      <td>44.0</td>\n    </tr>\n    <tr>\n      <th>2</th>\n      <td>Émile Allain</td>\n      <td>Clermont-Ferrand</td>\n      <td>34</td>\n      <td>21314</td>\n      <td>61.0</td>\n    </tr>\n    <tr>\n      <th>3</th>\n      <td>Christiane Lagueux</td>\n      <td>Lempdes</td>\n      <td>73</td>\n      <td>17244</td>\n      <td>46.0</td>\n    </tr>\n    <tr>\n      <th>4</th>\n      <td>Delmare Duclos</td>\n      <td>Clermont-Ferrand</td>\n      <td>68</td>\n      <td>27373</td>\n      <td>76.0</td>\n    </tr>\n    <tr>\n      <th>...</th>\n      <td>...</td>\n      <td>...</td>\n      <td>...</td>\n      <td>...</td>\n      <td>...</td>\n    </tr>\n    <tr>\n      <th>995</th>\n      <td>Chapin Paimboeuf</td>\n      <td>Beaumont</td>\n      <td>21</td>\n      <td>22670</td>\n      <td>68.0</td>\n    </tr>\n    <tr>\n      <th>996</th>\n      <td>Michèle Quessy</td>\n      <td>Clermont-Ferrand</td>\n      <td>76</td>\n      <td>24135</td>\n      <td>81.0</td>\n    </tr>\n    <tr>\n      <th>997</th>\n      <td>Lundy Bérubé</td>\n      <td>Clermont-Ferrand</td>\n      <td>22</td>\n      <td>21292</td>\n      <td>57.0</td>\n    </tr>\n    <tr>\n      <th>998</th>\n      <td>Prunella Fecteau</td>\n      <td>Clermont-Ferrand</td>\n      <td>57</td>\n      <td>20604</td>\n      <td>76.0</td>\n    </tr>\n    <tr>\n      <th>999</th>\n      <td>Arianne Croquetaigne</td>\n      <td>Beaumont</td>\n      <td>59</td>\n      <td>25817</td>\n      <td>77.0</td>\n    </tr>\n  </tbody>\n</table>\n<p>1000 rows × 5 columns</p>\n</div>"
     },
     "metadata": {}
    },
    {
     "output_type": "display_data",
     "data": {
      "text/plain": "array(['Cébazat', 'Clermont-Ferrand', 'Lempdes', 'Gerzat', 'Beaumont',\n       'Chamalières', 'Durtol', 'Blanzat', 'Aubière',\n       \"Cournon-d'Auvergne\", 'Romagnat', 'Orcines', 'Pont-du-Château',\n       'Aulnat', 'Pérignat-lès-Sarliève', 'Le Cendre',\n       'Saint-Genès-Champanelle', 'Ceyrat', 'Châteaugay', 'Royat',\n       'Nohanent'], dtype=object)"
     },
     "metadata": {}
    },
    {
     "output_type": "display_data",
     "data": {
      "text/plain": "                      nom               idName\n0             Vail Bérubé  5869528078773418465\n1          Comforte Sorel -1020792392412315024\n2            Émile Allain   620169770367744342\n3      Christiane Lagueux  6515123715887301905\n4          Delmare Duclos  7773364298914308527\n..                    ...                  ...\n994      Chapin Paimboeuf -7785402059666095113\n995        Michèle Quessy  4427489881231101426\n996          Lundy Bérubé -7148645551465973653\n997      Prunella Fecteau  7646510239850081113\n998  Arianne Croquetaigne  -827019856563001673\n\n[999 rows x 2 columns]",
      "text/html": "<div>\n<style scoped>\n    .dataframe tbody tr th:only-of-type {\n        vertical-align: middle;\n    }\n\n    .dataframe tbody tr th {\n        vertical-align: top;\n    }\n\n    .dataframe thead th {\n        text-align: right;\n    }\n</style>\n<table border=\"1\" class=\"dataframe\">\n  <thead>\n    <tr style=\"text-align: right;\">\n      <th></th>\n      <th>nom</th>\n      <th>idName</th>\n    </tr>\n  </thead>\n  <tbody>\n    <tr>\n      <th>0</th>\n      <td>Vail Bérubé</td>\n      <td>5869528078773418465</td>\n    </tr>\n    <tr>\n      <th>1</th>\n      <td>Comforte Sorel</td>\n      <td>-1020792392412315024</td>\n    </tr>\n    <tr>\n      <th>2</th>\n      <td>Émile Allain</td>\n      <td>620169770367744342</td>\n    </tr>\n    <tr>\n      <th>3</th>\n      <td>Christiane Lagueux</td>\n      <td>6515123715887301905</td>\n    </tr>\n    <tr>\n      <th>4</th>\n      <td>Delmare Duclos</td>\n      <td>7773364298914308527</td>\n    </tr>\n    <tr>\n      <th>...</th>\n      <td>...</td>\n      <td>...</td>\n    </tr>\n    <tr>\n      <th>994</th>\n      <td>Chapin Paimboeuf</td>\n      <td>-7785402059666095113</td>\n    </tr>\n    <tr>\n      <th>995</th>\n      <td>Michèle Quessy</td>\n      <td>4427489881231101426</td>\n    </tr>\n    <tr>\n      <th>996</th>\n      <td>Lundy Bérubé</td>\n      <td>-7148645551465973653</td>\n    </tr>\n    <tr>\n      <th>997</th>\n      <td>Prunella Fecteau</td>\n      <td>7646510239850081113</td>\n    </tr>\n    <tr>\n      <th>998</th>\n      <td>Arianne Croquetaigne</td>\n      <td>-827019856563001673</td>\n    </tr>\n  </tbody>\n</table>\n<p>999 rows × 2 columns</p>\n</div>"
     },
     "metadata": {}
    },
    {
     "output_type": "display_data",
     "data": {
      "text/plain": "                      ville              idVille\n0                   Cébazat  6062249861595304175\n1          Clermont-Ferrand  4753653536617808688\n2                   Lempdes  7917296096983068208\n3                    Gerzat   793883926561764405\n4                  Beaumont  2905631657325583044\n5               Chamalières -8347080980923834938\n6                    Durtol -2202457580933480049\n7                   Blanzat -3447820473349923622\n8                   Aubière   666146273114207661\n9        Cournon-d'Auvergne -1723815054901960439\n10                 Romagnat  4488942458980048499\n11                  Orcines -4697274713213920048\n12          Pont-du-Château   908956690383466929\n13                   Aulnat -7573454849331885658\n14    Pérignat-lès-Sarliève -8943415661132727150\n15                Le Cendre -6882987834042626335\n16  Saint-Genès-Champanelle  5030572869733229207\n17                   Ceyrat  8788537194020901312\n18               Châteaugay -8396572439238282933\n19                    Royat -3394936925817430181\n20                 Nohanent -1651763446967640230",
      "text/html": "<div>\n<style scoped>\n    .dataframe tbody tr th:only-of-type {\n        vertical-align: middle;\n    }\n\n    .dataframe tbody tr th {\n        vertical-align: top;\n    }\n\n    .dataframe thead th {\n        text-align: right;\n    }\n</style>\n<table border=\"1\" class=\"dataframe\">\n  <thead>\n    <tr style=\"text-align: right;\">\n      <th></th>\n      <th>ville</th>\n      <th>idVille</th>\n    </tr>\n  </thead>\n  <tbody>\n    <tr>\n      <th>0</th>\n      <td>Cébazat</td>\n      <td>6062249861595304175</td>\n    </tr>\n    <tr>\n      <th>1</th>\n      <td>Clermont-Ferrand</td>\n      <td>4753653536617808688</td>\n    </tr>\n    <tr>\n      <th>2</th>\n      <td>Lempdes</td>\n      <td>7917296096983068208</td>\n    </tr>\n    <tr>\n      <th>3</th>\n      <td>Gerzat</td>\n      <td>793883926561764405</td>\n    </tr>\n    <tr>\n      <th>4</th>\n      <td>Beaumont</td>\n      <td>2905631657325583044</td>\n    </tr>\n    <tr>\n      <th>5</th>\n      <td>Chamalières</td>\n      <td>-8347080980923834938</td>\n    </tr>\n    <tr>\n      <th>6</th>\n      <td>Durtol</td>\n      <td>-2202457580933480049</td>\n    </tr>\n    <tr>\n      <th>7</th>\n      <td>Blanzat</td>\n      <td>-3447820473349923622</td>\n    </tr>\n    <tr>\n      <th>8</th>\n      <td>Aubière</td>\n      <td>666146273114207661</td>\n    </tr>\n    <tr>\n      <th>9</th>\n      <td>Cournon-d'Auvergne</td>\n      <td>-1723815054901960439</td>\n    </tr>\n    <tr>\n      <th>10</th>\n      <td>Romagnat</td>\n      <td>4488942458980048499</td>\n    </tr>\n    <tr>\n      <th>11</th>\n      <td>Orcines</td>\n      <td>-4697274713213920048</td>\n    </tr>\n    <tr>\n      <th>12</th>\n      <td>Pont-du-Château</td>\n      <td>908956690383466929</td>\n    </tr>\n    <tr>\n      <th>13</th>\n      <td>Aulnat</td>\n      <td>-7573454849331885658</td>\n    </tr>\n    <tr>\n      <th>14</th>\n      <td>Pérignat-lès-Sarliève</td>\n      <td>-8943415661132727150</td>\n    </tr>\n    <tr>\n      <th>15</th>\n      <td>Le Cendre</td>\n      <td>-6882987834042626335</td>\n    </tr>\n    <tr>\n      <th>16</th>\n      <td>Saint-Genès-Champanelle</td>\n      <td>5030572869733229207</td>\n    </tr>\n    <tr>\n      <th>17</th>\n      <td>Ceyrat</td>\n      <td>8788537194020901312</td>\n    </tr>\n    <tr>\n      <th>18</th>\n      <td>Châteaugay</td>\n      <td>-8396572439238282933</td>\n    </tr>\n    <tr>\n      <th>19</th>\n      <td>Royat</td>\n      <td>-3394936925817430181</td>\n    </tr>\n    <tr>\n      <th>20</th>\n      <td>Nohanent</td>\n      <td>-1651763446967640230</td>\n    </tr>\n  </tbody>\n</table>\n</div>"
     },
     "metadata": {}
    },
    {
     "output_type": "display_data",
     "data": {
      "text/plain": "                     nom                ville  age  salaire  depenses\n0    5869528078773418465  6062249861595304175   26    17190      55.0\n1   -1020792392412315024  4753653536617808688   71    21899      44.0\n2     620169770367744342  4753653536617808688   34    21314      61.0\n3    6515123715887301905  7917296096983068208   73    17244      46.0\n4    7773364298914308527  4753653536617808688   68    27373      76.0\n..                   ...                  ...  ...      ...       ...\n995 -7785402059666095113  2905631657325583044   21    22670      68.0\n996  4427489881231101426  4753653536617808688   76    24135      81.0\n997 -7148645551465973653  4753653536617808688   22    21292      57.0\n998  7646510239850081113  4753653536617808688   57    20604      76.0\n999  -827019856563001673  2905631657325583044   59    25817      77.0\n\n[1000 rows x 5 columns]",
      "text/html": "<div>\n<style scoped>\n    .dataframe tbody tr th:only-of-type {\n        vertical-align: middle;\n    }\n\n    .dataframe tbody tr th {\n        vertical-align: top;\n    }\n\n    .dataframe thead th {\n        text-align: right;\n    }\n</style>\n<table border=\"1\" class=\"dataframe\">\n  <thead>\n    <tr style=\"text-align: right;\">\n      <th></th>\n      <th>nom</th>\n      <th>ville</th>\n      <th>age</th>\n      <th>salaire</th>\n      <th>depenses</th>\n    </tr>\n  </thead>\n  <tbody>\n    <tr>\n      <th>0</th>\n      <td>5869528078773418465</td>\n      <td>6062249861595304175</td>\n      <td>26</td>\n      <td>17190</td>\n      <td>55.0</td>\n    </tr>\n    <tr>\n      <th>1</th>\n      <td>-1020792392412315024</td>\n      <td>4753653536617808688</td>\n      <td>71</td>\n      <td>21899</td>\n      <td>44.0</td>\n    </tr>\n    <tr>\n      <th>2</th>\n      <td>620169770367744342</td>\n      <td>4753653536617808688</td>\n      <td>34</td>\n      <td>21314</td>\n      <td>61.0</td>\n    </tr>\n    <tr>\n      <th>3</th>\n      <td>6515123715887301905</td>\n      <td>7917296096983068208</td>\n      <td>73</td>\n      <td>17244</td>\n      <td>46.0</td>\n    </tr>\n    <tr>\n      <th>4</th>\n      <td>7773364298914308527</td>\n      <td>4753653536617808688</td>\n      <td>68</td>\n      <td>27373</td>\n      <td>76.0</td>\n    </tr>\n    <tr>\n      <th>...</th>\n      <td>...</td>\n      <td>...</td>\n      <td>...</td>\n      <td>...</td>\n      <td>...</td>\n    </tr>\n    <tr>\n      <th>995</th>\n      <td>-7785402059666095113</td>\n      <td>2905631657325583044</td>\n      <td>21</td>\n      <td>22670</td>\n      <td>68.0</td>\n    </tr>\n    <tr>\n      <th>996</th>\n      <td>4427489881231101426</td>\n      <td>4753653536617808688</td>\n      <td>76</td>\n      <td>24135</td>\n      <td>81.0</td>\n    </tr>\n    <tr>\n      <th>997</th>\n      <td>-7148645551465973653</td>\n      <td>4753653536617808688</td>\n      <td>22</td>\n      <td>21292</td>\n      <td>57.0</td>\n    </tr>\n    <tr>\n      <th>998</th>\n      <td>7646510239850081113</td>\n      <td>4753653536617808688</td>\n      <td>57</td>\n      <td>20604</td>\n      <td>76.0</td>\n    </tr>\n    <tr>\n      <th>999</th>\n      <td>-827019856563001673</td>\n      <td>2905631657325583044</td>\n      <td>59</td>\n      <td>25817</td>\n      <td>77.0</td>\n    </tr>\n  </tbody>\n</table>\n<p>1000 rows × 5 columns</p>\n</div>"
     },
     "metadata": {}
    }
   ],
   "source": [
    "display(df)\n",
    "\n",
    "# On sauvegarde le nom non hashé de la ville et du client.\n",
    "saveNom = df.nom.unique()\n",
    "saveVille = df.ville.unique()\n",
    "\n",
    "# Sauvegarde\n",
    "dfSaveNom = pd.DataFrame({\"nom\" : saveNom})\n",
    "dfSaveVille = pd.DataFrame({\"ville\" : saveVille})\n",
    "\n",
    "# Hashage\n",
    "df[\"nom\"] = df[\"nom\"].map(hash)\n",
    "df[\"ville\"] = df[\"ville\"].map(hash)\n",
    "\n",
    "\n",
    "\n",
    "\n",
    "dfSaveNom['idName'] = dfSaveNom['nom'].map(hash)\n",
    "dfSaveVille[\"idVille\"] = dfSaveVille[\"ville\"].map(hash)\n",
    "\n",
    "display(saveVille)\n",
    "display(dfSaveNom)\n",
    "display(dfSaveVille)\n",
    "\n",
    "\n",
    "\n",
    "display(df)"
   ]
  },
  {
   "cell_type": "code",
   "execution_count": 14,
   "metadata": {},
   "outputs": [
    {
     "output_type": "display_data",
     "data": {
      "text/plain": "                     nom                ville       age   salaire  depenses\n0    5869528078773418465  6062249861595304175 -1.274674 -1.524022 -1.032686\n1   -1020792392412315024  4753653536617808688  1.034239  0.014101 -1.790140\n2     620169770367744342  4753653536617808688 -0.864200 -0.176980 -0.619529\n3    6515123715887301905  7917296096983068208  1.136857 -1.506384 -1.652421\n4    7773364298914308527  4753653536617808688  0.880311  1.802100  0.413364\n..                   ...                  ...       ...       ...       ...\n995 -7785402059666095113  2905631657325583044 -1.531219  0.265937 -0.137512\n996  4427489881231101426  4753653536617808688  1.290785  0.744457  0.757661\n997 -7148645551465973653  4753653536617808688 -1.479910 -0.184166 -0.894967\n998  7646510239850081113  4753653536617808688  0.315911 -0.408891  0.413364\n999  -827019856563001673  2905631657325583044  0.418529  1.293856  0.482223\n\n[1000 rows x 5 columns]",
      "text/html": "<div>\n<style scoped>\n    .dataframe tbody tr th:only-of-type {\n        vertical-align: middle;\n    }\n\n    .dataframe tbody tr th {\n        vertical-align: top;\n    }\n\n    .dataframe thead th {\n        text-align: right;\n    }\n</style>\n<table border=\"1\" class=\"dataframe\">\n  <thead>\n    <tr style=\"text-align: right;\">\n      <th></th>\n      <th>nom</th>\n      <th>ville</th>\n      <th>age</th>\n      <th>salaire</th>\n      <th>depenses</th>\n    </tr>\n  </thead>\n  <tbody>\n    <tr>\n      <th>0</th>\n      <td>5869528078773418465</td>\n      <td>6062249861595304175</td>\n      <td>-1.274674</td>\n      <td>-1.524022</td>\n      <td>-1.032686</td>\n    </tr>\n    <tr>\n      <th>1</th>\n      <td>-1020792392412315024</td>\n      <td>4753653536617808688</td>\n      <td>1.034239</td>\n      <td>0.014101</td>\n      <td>-1.790140</td>\n    </tr>\n    <tr>\n      <th>2</th>\n      <td>620169770367744342</td>\n      <td>4753653536617808688</td>\n      <td>-0.864200</td>\n      <td>-0.176980</td>\n      <td>-0.619529</td>\n    </tr>\n    <tr>\n      <th>3</th>\n      <td>6515123715887301905</td>\n      <td>7917296096983068208</td>\n      <td>1.136857</td>\n      <td>-1.506384</td>\n      <td>-1.652421</td>\n    </tr>\n    <tr>\n      <th>4</th>\n      <td>7773364298914308527</td>\n      <td>4753653536617808688</td>\n      <td>0.880311</td>\n      <td>1.802100</td>\n      <td>0.413364</td>\n    </tr>\n    <tr>\n      <th>...</th>\n      <td>...</td>\n      <td>...</td>\n      <td>...</td>\n      <td>...</td>\n      <td>...</td>\n    </tr>\n    <tr>\n      <th>995</th>\n      <td>-7785402059666095113</td>\n      <td>2905631657325583044</td>\n      <td>-1.531219</td>\n      <td>0.265937</td>\n      <td>-0.137512</td>\n    </tr>\n    <tr>\n      <th>996</th>\n      <td>4427489881231101426</td>\n      <td>4753653536617808688</td>\n      <td>1.290785</td>\n      <td>0.744457</td>\n      <td>0.757661</td>\n    </tr>\n    <tr>\n      <th>997</th>\n      <td>-7148645551465973653</td>\n      <td>4753653536617808688</td>\n      <td>-1.479910</td>\n      <td>-0.184166</td>\n      <td>-0.894967</td>\n    </tr>\n    <tr>\n      <th>998</th>\n      <td>7646510239850081113</td>\n      <td>4753653536617808688</td>\n      <td>0.315911</td>\n      <td>-0.408891</td>\n      <td>0.413364</td>\n    </tr>\n    <tr>\n      <th>999</th>\n      <td>-827019856563001673</td>\n      <td>2905631657325583044</td>\n      <td>0.418529</td>\n      <td>1.293856</td>\n      <td>0.482223</td>\n    </tr>\n  </tbody>\n</table>\n<p>1000 rows × 5 columns</p>\n</div>"
     },
     "metadata": {}
    }
   ],
   "source": [
    "def centrer_reduire(col):\n",
    "    col = (col - col.mean())/col.std()\n",
    "    return col\n",
    "\n",
    "\n",
    "df.depenses=centrer_reduire(df.depenses)\n",
    "df.salaire = centrer_reduire(df.salaire)\n",
    "df.age = centrer_reduire(df.age)\n",
    "\n",
    "display(df)\n"
   ]
  },
  {
   "cell_type": "code",
   "execution_count": 16,
   "metadata": {},
   "outputs": [],
   "source": [
    "# Ecriture dans depensesNormalized.csv\n",
    "df.to_csv(\"data/depensesNormalized.csv\",index=False)"
   ]
  },
  {
   "cell_type": "code",
   "execution_count": null,
   "metadata": {},
   "outputs": [],
   "source": []
  }
 ],
 "metadata": {
  "kernelspec": {
   "display_name": "Python 3",
   "language": "python",
   "name": "python3"
  },
  "language_info": {
   "codemirror_mode": {
    "name": "ipython",
    "version": 3
   },
   "file_extension": ".py",
   "mimetype": "text/x-python",
   "name": "python",
   "nbconvert_exporter": "python",
   "pygments_lexer": "ipython3",
   "version": "3.8.1-final"
  }
 },
 "nbformat": 4,
 "nbformat_minor": 4
}